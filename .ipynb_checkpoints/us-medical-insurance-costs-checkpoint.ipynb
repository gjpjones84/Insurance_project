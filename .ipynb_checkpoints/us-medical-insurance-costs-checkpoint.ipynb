{
 "cells": [
  {
   "cell_type": "markdown",
   "metadata": {},
   "source": [
    "# U.S. Medical Insurance Costs"
   ]
  },
  {
   "cell_type": "code",
   "execution_count": 28,
   "metadata": {},
   "outputs": [],
   "source": [
    "import csv"
   ]
  },
  {
   "cell_type": "markdown",
   "metadata": {},
   "source": [
    "### SCOPE:\n",
    "<p>the scope for this project will be three individual goals...</p> \n",
    "<p><b>One:</b>\n",
    "As effciently as possible, analyse the dataset and import it into a understandle coding structure. Use version control to monitor the project throughout its life.</p>\n",
    "<p><b>Two:</b>\n",
    "The first data I wish to analyse is that of the corrilaiton between smokers and non-smokers and where they reside geographically.</p> \n",
    "<p><b>Three:</b>\n",
    "The second data I wish to analyse is that of whether geo-graphical location impacts on the cost of insurance.</p>\n",
    "<p></p>\n",
    "<p><b>ADDITIONALS:</b>\n",
    "Should there be time and understanding, display findings in an approprite graph format</p>"
   ]
  },
  {
   "cell_type": "markdown",
   "metadata": {},
   "source": [
    "#### GOAL ONE:\n",
    "<p></p>\n",
    "I am using GitHub Desktop for version control"
   ]
  },
  {
   "cell_type": "code",
   "execution_count": 32,
   "metadata": {},
   "outputs": [],
   "source": [
    "#Create the lists for the data in the csv file\n",
    "ages = []\n",
    "sexes = []\n",
    "bmis = []\n",
    "amount_of_children = []\n",
    "smoker = []\n",
    "location = []\n",
    "cost_of_insurance = []"
   ]
  },
  {
   "cell_type": "code",
   "execution_count": 33,
   "metadata": {},
   "outputs": [],
   "source": [
    "#import the list, file and collom name and itterate through the data and append the correct data to the correct list.\n",
    "def master_list(list_type, csv_file, col_name):\n",
    "    with open(csv_file) as csv_data:\n",
    "        csv_read = csv.DictReader(csv_data)\n",
    "        for row in csv_read:\n",
    "            list_type.append(row[col_name])\n",
    "        return list_type"
   ]
  },
  {
   "cell_type": "code",
   "execution_count": 34,
   "metadata": {},
   "outputs": [],
   "source": [
    "#populate all the lists \n",
    "ages = master_list(ages, \"insurance.csv\", \"age\")\n",
    "sexes = master_list(sexes, \"insurance.csv\", \"sex\")\n",
    "bmis = master_list(bmis, \"insurance.csv\", \"bmi\")\n",
    "amount_of_children = master_list(amount_of_children, \"insurance.csv\", \"children\")\n",
    "smoker = master_list(smoker, \"insurance.csv\", \"smoker\")\n",
    "location = master_list(location, \"insurance.csv\", \"region\")\n",
    "cost_of_insurance = master_list(cost_of_insurance, \"insurance.csv\", \"charges\")"
   ]
  },
  {
   "cell_type": "markdown",
   "metadata": {},
   "source": [
    "#### GOAL TWO:\n",
    "<p></p>\n",
    "Corrilation between smokers and location"
   ]
  },
  {
   "cell_type": "code",
   "execution_count": null,
   "metadata": {},
   "outputs": [],
   "source": []
  },
  {
   "cell_type": "code",
   "execution_count": null,
   "metadata": {},
   "outputs": [],
   "source": []
  }
 ],
 "metadata": {
  "kernelspec": {
   "display_name": "Python 3",
   "language": "python",
   "name": "python3"
  },
  "language_info": {
   "codemirror_mode": {
    "name": "ipython",
    "version": 3
   },
   "file_extension": ".py",
   "mimetype": "text/x-python",
   "name": "python",
   "nbconvert_exporter": "python",
   "pygments_lexer": "ipython3",
   "version": "3.8.5"
  }
 },
 "nbformat": 4,
 "nbformat_minor": 4
}
