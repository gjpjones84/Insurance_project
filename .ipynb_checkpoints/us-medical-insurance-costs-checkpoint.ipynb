{
 "cells": [
  {
   "cell_type": "markdown",
   "metadata": {},
   "source": [
    "# U.S. Medical Insurance Costs"
   ]
  },
  {
   "cell_type": "code",
   "execution_count": 1,
   "metadata": {},
   "outputs": [],
   "source": [
    "import csv"
   ]
  },
  {
   "cell_type": "markdown",
   "metadata": {},
   "source": [
    "###### SCOPE:\n",
    "<p>the scope for this project will be three individual goals...</p> \n",
    "<p><b>One:</b>\n",
    "As effciently as possible, analyse the dataset and import it into a understandle coding structure. Use version control to monitor the project throughout its life.</p>\n",
    "<p><b>Two:</b>\n",
    "The first data I wish to analyse is that of the corrilaiton between smokers and non-smokers and where they reside geographically.</p> \n",
    "<p><b>Three:</b>\n",
    "The second data I wish to analyse is that of whether geo-graphical location impacts on the cost of insurance.</p>\n",
    "<p></p>\n",
    "<p><b>ADDITIONALS:</b>Should there be time and understanding, display findings in an approprite graph format</p>"
   ]
  },
  {
   "cell_type": "code",
   "execution_count": null,
   "metadata": {},
   "outputs": [],
   "source": []
  }
 ],
 "metadata": {
  "kernelspec": {
   "display_name": "Python 3",
   "language": "python",
   "name": "python3"
  },
  "language_info": {
   "codemirror_mode": {
    "name": "ipython",
    "version": 3
   },
   "file_extension": ".py",
   "mimetype": "text/x-python",
   "name": "python",
   "nbconvert_exporter": "python",
   "pygments_lexer": "ipython3",
   "version": "3.8.5"
  }
 },
 "nbformat": 4,
 "nbformat_minor": 4
}
