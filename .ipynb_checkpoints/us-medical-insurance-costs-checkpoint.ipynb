{
 "cells": [
  {
   "cell_type": "markdown",
   "metadata": {},
   "source": [
    "# U.S. Medical Insurance Costs"
   ]
  },
  {
   "cell_type": "code",
   "execution_count": 41,
   "metadata": {},
   "outputs": [],
   "source": [
    "import csv\n",
    "import matplotlib.pyplot as plt"
   ]
  },
  {
   "cell_type": "markdown",
   "metadata": {},
   "source": [
    "### SCOPE:\n",
    "<p>the scope for this project will be three individual goals...</p> \n",
    "<p><b>One:</b>\n",
    "As effciently as possible, analyse the dataset and import it into a understandle coding structure. Use version control to monitor the project throughout its life.</p>\n",
    "<p><b>Two:</b>\n",
    "The first data I wish to analyse is that of the corrilaiton between smokers and non-smokers and where they reside geographically.</p> \n",
    "<p><b>Three:</b>\n",
    "The second data I wish to analyse is that of whether geo-graphical location impacts on the cost of insurance.</p>\n",
    "<p></p>\n",
    "<p><b>ADDITIONALS:</b>\n",
    "Should there be time and understanding, display findings in an approprite graph format</p>"
   ]
  },
  {
   "cell_type": "markdown",
   "metadata": {},
   "source": [
    "#### GOAL ONE:\n",
    "<p></p>\n",
    "I am using GitHub Desktop for version control"
   ]
  },
  {
   "cell_type": "code",
   "execution_count": 36,
   "metadata": {},
   "outputs": [],
   "source": [
    "#Create the lists for the data in the csv file\n",
    "ages = []\n",
    "sexes = []\n",
    "bmis = []\n",
    "amount_of_children = []\n",
    "smoker = []\n",
    "location = []\n",
    "cost_of_insurance = []"
   ]
  },
  {
   "cell_type": "code",
   "execution_count": 51,
   "metadata": {},
   "outputs": [],
   "source": [
    "#import the list, file and collom name and itterate through the data and append the correct data to the correct list.\n",
    "def master_list(list_type, csv_file, col_name):\n",
    "    with open(csv_file) as csv_data:\n",
    "        csv_read = csv.DictReader(csv_data)\n",
    "        for row in csv_read:\n",
    "            list_type.append(row[col_name])\n",
    "        return list_type"
   ]
  },
  {
   "cell_type": "code",
   "execution_count": 52,
   "metadata": {},
   "outputs": [],
   "source": [
    "#populate all the lists \n",
    "ages = master_list(ages, \"insurance.csv\", \"age\")\n",
    "sexes = master_list(sexes, \"insurance.csv\", \"sex\")\n",
    "bmis = master_list(bmis, \"insurance.csv\", \"bmi\")\n",
    "amount_of_children = master_list(amount_of_children, \"insurance.csv\", \"children\")\n",
    "smoker = master_list(smoker, \"insurance.csv\", \"smoker\")\n",
    "location = master_list(location, \"insurance.csv\", \"region\")\n",
    "cost_of_insurance = master_list(cost_of_insurance, \"insurance.csv\", \"charges\")"
   ]
  },
  {
   "cell_type": "markdown",
   "metadata": {},
   "source": [
    "#### GOAL TWO:\n",
    "<p></p>\n",
    "Corrilation between smokers and location"
   ]
  },
  {
   "cell_type": "code",
   "execution_count": 39,
   "metadata": {},
   "outputs": [],
   "source": [
    "#function for finding the number of smokers relating to thier location\n",
    "def where_smoker(lst1, lst2):\n",
    "    smoker_south_west = 0\n",
    "    smoker_south_east = 0\n",
    "    smoker_north_west = 0\n",
    "    smoker_north_east = 0 \n",
    "    for x in range(len(lst1)):\n",
    "        if lst1[x] == \"yes\":\n",
    "            if lst2[x] == \"southwest\":\n",
    "                smoker_south_west += 1\n",
    "            elif lst2[x] == \"southeast\":\n",
    "                smoker_south_east += 1\n",
    "            elif lst2[x] == \"northwest\":\n",
    "                smoker_north_west += 1\n",
    "            elif lst2[x] == \"northeast\":\n",
    "                smoker_north_east += 1\n",
    "    return smoker_south_west, smoker_south_east, smoker_north_west, smoker_north_east"
   ]
  },
  {
   "cell_type": "code",
   "execution_count": 45,
   "metadata": {},
   "outputs": [
    {
     "data": {
      "image/png": "[encoded data removed]",
      "text/plain": [
       "<Figure size 432x288 with 1 Axes>"
      ]
     },
     "metadata": {
      "needs_background": "light"
     },
     "output_type": "display_data"
    }
   ],
   "source": [
    "smoker_south_west, smoker_south_east, smoker_north_west, smoker_north_east = where_smoker(smoker, location)\n",
    "plt.bar(\"soutwest\", smoker_south_west, align = \"center\") \n",
    "plt.bar(\"southeast\", smoker_south_east, align = \"center\")\n",
    "plt.bar(\"northwest\", smoker_north_west, align = \"center\")\n",
    "plt.bar(\"northeast\", smoker_north_east, align = \"center\")\n",
    "plt.title(\"Numbers of smokers in geo-graphical locations\")\n",
    "plt.ylabel(\"Number of smokers\")\n",
    "plt.xlabel(\"locations\")\n",
    "plt.show()"
   ]
  },
  {
   "cell_type": "markdown",
   "metadata": {},
   "source": [
    "As we can see from the above graph, the largest amount of smokers reside ine the southeast of the country. As an additional analysis, lets see the over all amounts of differences in smoker numbers from north to south and east to west.  "
   ]
  },
  {
   "cell_type": "code",
   "execution_count": 49,
   "metadata": {},
   "outputs": [
    {
     "data": {
      "image/png": "[encoded data removed]",
      "text/plain": [
       "<Figure size 432x288 with 1 Axes>"
      ]
     },
     "metadata": {
      "needs_background": "light"
     },
     "output_type": "display_data"
    }
   ],
   "source": [
    "#combine new number sets\n",
    "overall_north = smoker_north_east + smoker_north_west\n",
    "overall_south = smoker_south_east + smoker_south_west\n",
    "plt.bar(\"north\", overall_north, align = \"center\")\n",
    "plt.bar(\"south\", overall_south, align = \"center\")\n",
    "plt.title(\"Comparision of smokers in north and south\")\n",
    "plt.ylabel(\"Number of smokers\")\n",
    "plt.xlabel(\"locations\")\n",
    "plt.show()"
   ]
  },
  {
   "cell_type": "code",
   "execution_count": 50,
   "metadata": {},
   "outputs": [
    {
     "data": {
      "image/png": "[encoded data removed]",
      "text/plain": [
       "<Figure size 432x288 with 1 Axes>"
      ]
     },
     "metadata": {
      "needs_background": "light"
     },
     "output_type": "display_data"
    }
   ],
   "source": [
    "overall_east = smoker_north_east + smoker_south_east\n",
    "overall_west = smoker_north_west + smoker_south_west\n",
    "plt.bar(\"east\", overall_east, align = \"center\")\n",
    "plt.bar(\"west\", overall_west, align = \"center\")\n",
    "plt.title(\"Comparision of smokers in east and west\")\n",
    "plt.ylabel(\"Number of smokers\")\n",
    "plt.xlabel(\"locations\")\n",
    "plt.show()"
   ]
  },
  {
   "cell_type": "markdown",
   "metadata": {},
   "source": [
    "From the above graphs, we can see that there are slightly more smokers in the south of the country than in the north. However, we can see there is a significant difference in the numbers of smokers that live in the east of the country than there are in the west. "
   ]
  },
  {
   "cell_type": "markdown",
   "metadata": {},
   "source": [
    "#### GOAL THREE:\n",
    "<p></p>\n",
    "The corrilation between insuree's locations and insurance costs"
   ]
  },
  {
   "cell_type": "code",
   "execution_count": null,
   "metadata": {},
   "outputs": [],
   "source": [
    "#function for paring the number of insuree's in a location and the mean price of thier insurance costs\n",
    "def location_against_cost(lst1, lst2):\n",
    "    "
   ]
  }
 ],
 "metadata": {
  "kernelspec": {
   "display_name": "Python 3",
   "language": "python",
   "name": "python3"
  },
  "language_info": {
   "codemirror_mode": {
    "name": "ipython",
    "version": 3
   },
   "file_extension": ".py",
   "mimetype": "text/x-python",
   "name": "python",
   "nbconvert_exporter": "python",
   "pygments_lexer": "ipython3",
   "version": "3.8.5"
  }
 },
 "nbformat": 4,
 "nbformat_minor": 4
}
